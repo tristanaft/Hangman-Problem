{
 "cells": [
  {
   "cell_type": "markdown",
   "metadata": {},
   "source": [
    "# Here is a notebook to test out the HangmanSolver class"
   ]
  },
  {
   "cell_type": "code",
   "execution_count": 6,
   "metadata": {
    "metadata": {}
   },
   "outputs": [],
   "source": [
    "from Hangman import HangmanSolver\n",
    "import numpy as np"
   ]
  },
  {
   "cell_type": "code",
   "execution_count": 7,
   "metadata": {
    "metadata": {}
   },
   "outputs": [],
   "source": [
    "train_dict_loc = \"WordData/words_250000_train.txt\"\n",
    "test_dict_loc = \"\""
   ]
  },
  {
   "cell_type": "code",
   "execution_count": 8,
   "metadata": {
    "metadata": {}
   },
   "outputs": [],
   "source": [
    "game = HangmanSolver(weight_count = 0.25, weight_length = 2, training_dictionary_location = train_dict_loc)\n",
    "game.set_correct_word(\"ptilo\")"
   ]
  },
  {
   "cell_type": "code",
   "execution_count": 9,
   "metadata": {
    "metadata": {}
   },
   "outputs": [
    {
     "name": "stdout",
     "output_type": "stream",
     "text": [
      "Successfully start a new game! # of tries remaining: 6. Word: _____.\n",
      "Guessing letter: a\n",
      "Incorrect guess a, # of tries remaining: 6. Word: _____.\n",
      "Guessing letter: e\n",
      "Incorrect guess e, # of tries remaining: 5. Word: _____.\n",
      "Guessing letter: s\n",
      "Incorrect guess s, # of tries remaining: 4. Word: _____.\n",
      "Guessing letter: r\n",
      "Incorrect guess r, # of tries remaining: 3. Word: _____.\n",
      "Guessing letter: i\n",
      "Got a Letter, i, # of tries remaining: 2. Word: __i__.\n",
      "Guessing letter: n\n",
      "Incorrect guess n, # of tries remaining: 2. Word: __i__.\n",
      "Guessing letter: t\n",
      "Got a Letter, t, # of tries remaining: 1. Word: _ti__.\n",
      "Guessing letter: o\n",
      "Got a Letter, o, # of tries remaining: 1. Word: _ti_o.\n",
      "Guessing letter: c\n",
      "Incorrect guess c, # of tries remaining: 1. Word: _ti_o.\n",
      "You Lose, the answer was: ptilo\n",
      "\n"
     ]
    }
   ],
   "source": [
    "game.start_game()\n",
    "print()"
   ]
  },
  {
   "cell_type": "code",
   "execution_count": null,
   "metadata": {
    "metadata": {}
   },
   "outputs": [
    {
     "name": "stdout",
     "output_type": "stream",
     "text": [
      "on game 1 of 1000\n",
      "win percentage: 0.000000\n",
      "on game 101 of 1000\n",
      "win percentage: 65.346535\n",
      "on game 201 of 1000\n",
      "win percentage: 62.189055\n",
      "on game 301 of 1000\n",
      "win percentage: 57.475083\n",
      "on game 401 of 1000\n",
      "win percentage: 54.862843\n",
      "on game 501 of 1000\n",
      "win percentage: 55.688623\n",
      "on game 601 of 1000\n",
      "win percentage: 55.574043\n",
      "on game 701 of 1000\n",
      "win percentage: 54.208274\n",
      "on game 801 of 1000\n",
      "win percentage: 54.806492\n",
      "on game 901 of 1000\n",
      "win percentage: 54.495006\n",
      "\n",
      "win percentage:  54.9 %\n"
     ]
    }
   ],
   "source": [
    "game = HangmanSolver(weight_count = 0.25, weight_length = 2, train = True, training_dictionary_location = train_dict_loc)\n",
    "wincount = 0\n",
    "N = 1000\n",
    "for i in range(N):\n",
    "    if i % (N/10) == 0:\n",
    "        print(\"on game %i of %i\" % (i+1, N))\n",
    "        win_percent = 100*wincount/(i+1)\n",
    "        print(\"win percentage: %f\" % win_percent)\n",
    "    game.start_game(verbose=False)\n",
    "    wincount += game.get_winstate()\n",
    "print()\n",
    "print(\"win percentage: \", 100*wincount/N, \"%\")"
   ]
  },
  {
   "cell_type": "markdown",
   "metadata": {},
   "source": [
    "Ok, what are some good parameters for `weight_count` and `weight_length`?"
   ]
  },
  {
   "cell_type": "code",
   "execution_count": 11,
   "metadata": {
    "metadata": {}
   },
   "outputs": [
    {
     "ename": "NameError",
     "evalue": "name 'np' is not defined",
     "output_type": "error",
     "traceback": [
      "\u001b[1;31m---------------------------------------------------------------------------\u001b[0m",
      "\u001b[1;31mNameError\u001b[0m                                 Traceback (most recent call last)",
      "Input \u001b[1;32mIn [11]\u001b[0m, in \u001b[0;36m<cell line: 3>\u001b[1;34m()\u001b[0m\n\u001b[0;32m      1\u001b[0m game \u001b[38;5;241m=\u001b[39m HangmanSolver(train \u001b[38;5;241m=\u001b[39m \u001b[38;5;28;01mTrue\u001b[39;00m, training_dictionary_location \u001b[38;5;241m=\u001b[39m train_dict_loc)\n\u001b[0;32m      2\u001b[0m gridScores \u001b[38;5;241m=\u001b[39m []\n\u001b[1;32m----> 3\u001b[0m weight_count_vector \u001b[38;5;241m=\u001b[39m \u001b[43mnp\u001b[49m\u001b[38;5;241m.\u001b[39mlinspace(\u001b[38;5;241m0.1\u001b[39m, \u001b[38;5;241m0.5\u001b[39m, \u001b[38;5;241m11\u001b[39m)\n\u001b[0;32m      4\u001b[0m weight_length_vector \u001b[38;5;241m=\u001b[39m np\u001b[38;5;241m.\u001b[39mlinspace(\u001b[38;5;241m1\u001b[39m, \u001b[38;5;241m5\u001b[39m, \u001b[38;5;241m11\u001b[39m)\n\u001b[0;32m      5\u001b[0m M \u001b[38;5;241m=\u001b[39m \u001b[38;5;28mlen\u001b[39m(weight_count_vector) \u001b[38;5;241m*\u001b[39m \u001b[38;5;28mlen\u001b[39m(weight_length_vector)\n",
      "\u001b[1;31mNameError\u001b[0m: name 'np' is not defined"
     ]
    }
   ],
   "source": [
    "game = HangmanSolver(train = True, training_dictionary_location = train_dict_loc)\n",
    "gridScores = []\n",
    "weight_count_vector = np.linspace(0.1, 0.5, 11)\n",
    "weight_length_vector = np.linspace(1, 5, 11)\n",
    "M = len(weight_count_vector) * len(weight_length_vector)\n",
    "#HangmanSolver(weight_count = 0.25, weight_length = 2) best performance so far...\n",
    "\n",
    "tr = 0\n",
    "for wc in weight_count_vector:\n",
    "    for wl in weight_length_vector:\n",
    "        tr += 1\n",
    "        game.change_weights(wl, wc)\n",
    "        wincount = 0\n",
    "        N = 1000\n",
    "        for i in range(N):\n",
    "            #if i % (N/10) == 0:\n",
    "                #print(\"on game %i of %i\" % (i+1, N))\n",
    "                #win_percent = 100*wincount/(i+1)\n",
    "                #print(\"win percentage: %f\" % win_percent)\n",
    "            game.start_game(verbose=False)\n",
    "            wincount += game.get_winstate()\n",
    "        print(\"Finished trial %i of %i\" % (tr, M))\n",
    "        print(\"win percentage: \", 100*wincount/N, \"%\")\n",
    "        print()\n",
    "        gridScores.append([wl, wc, 100*wincount/N])"
   ]
  },
  {
   "cell_type": "code",
   "execution_count": null,
   "metadata": {},
   "outputs": [],
   "source": [
    "gridScores.sort(key = lambda x: x[2], reverse = True)\n",
    "top_20 = gridScores[0:20]\n",
    "print(top_20)"
   ]
  },
  {
   "cell_type": "markdown",
   "metadata": {},
   "source": [
    "Ok, I have the 20 top scoring pairs, but I want to check them again with more trials to make sure these work."
   ]
  },
  {
   "cell_type": "code",
   "execution_count": null,
   "metadata": {},
   "outputs": [],
   "source": [
    "game = HangmanSolver(training_dictionary_location = train_dict_loc)\n",
    "\n",
    "M = len(top_20)\n",
    "#HangmanSolver(weight_count = 0.25, weight_length = 2) best performance so far...\n",
    "\n",
    "tr = 0\n",
    "top_20_checked = []\n",
    "for item in top_20:\n",
    "    wl = item[0]\n",
    "    wc = item[1]\n",
    "    tr += 1\n",
    "    game.change_weights(wl, wc)\n",
    "    wincount = 0\n",
    "    N = 5000\n",
    "    for i in range(N):\n",
    "        if i % (N/10) == 0:\n",
    "            print(\"on game %i of %i\" % (i+1, N))\n",
    "            win_percent = 100*wincount/(i+1)\n",
    "            print(\"win percentage: %f\" % win_percent)\n",
    "        game.start_game(verbose=False)\n",
    "        wincount += game.get_winstate()\n",
    "    print(\"Finished trial %i of %i\" % (tr, M))\n",
    "    print(\"win percentage: \", 100*wincount/N, \"%\")\n",
    "    print()\n",
    "    top_20_checked.append([wl, wc, 100*wincount/N])"
   ]
  },
  {
   "cell_type": "code",
   "execution_count": null,
   "metadata": {},
   "outputs": [],
   "source": [
    "top_20_checked.sort(key = lambda x: x[2], reverse = True)\n",
    "print(top_20_checked)"
   ]
  }
 ],
 "metadata": {
  "kernelspec": {
   "display_name": "Python 3",
   "language": "python",
   "name": "python3"
  },
  "language_info": {
   "codemirror_mode": {
    "name": "ipython",
    "version": 3
   },
   "file_extension": ".py",
   "mimetype": "text/x-python",
   "name": "python",
   "nbconvert_exporter": "python",
   "pygments_lexer": "ipython3",
   "version": "3.10.11"
  }
 },
 "nbformat": 4,
 "nbformat_minor": 2
}
