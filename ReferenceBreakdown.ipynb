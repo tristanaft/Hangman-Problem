{
 "cells": [
  {
   "cell_type": "markdown",
   "metadata": {},
   "source": [
    "# Breaking Down the Example File to See What It Does"
   ]
  },
  {
   "cell_type": "code",
   "execution_count": 5,
   "metadata": {},
   "outputs": [],
   "source": [
    "import json\n",
    "import numpy\n",
    "import math\n",
    "import requests\n",
    "import random\n",
    "import string\n",
    "import secrets\n",
    "import time\n",
    "import re\n",
    "import collections\n",
    "from nltk import ngrams, FreqDist"
   ]
  },
  {
   "cell_type": "markdown",
   "metadata": {},
   "source": [
    "For the main file, I am working off of another file for a large portion of it. However it is currently not weighting the n-grams properly. I want to go through the original file and see how they do it, but the actual code is super hard for me to read... I want to like hack it to pieces here."
   ]
  },
  {
   "cell_type": "code",
   "execution_count": 6,
   "metadata": {},
   "outputs": [],
   "source": [
    "tf = open(\"words_250000_train.txt\",\"r\")\n",
    "full_dict = tf.read().splitlines()\n",
    "tf.close()\n"
   ]
  },
  {
   "cell_type": "markdown",
   "metadata": {},
   "source": [
    "First the init:"
   ]
  },
  {
   "cell_type": "markdown",
   "metadata": {},
   "source": [
    "need `build_dictionary()` first"
   ]
  },
  {
   "cell_type": "code",
   "execution_count": 7,
   "metadata": {},
   "outputs": [],
   "source": [
    "def build_dictionary(dictionary_file_location):\n",
    "        text_file = open(dictionary_file_location,\"r\")\n",
    "        full_dictionary = text_file.read().splitlines()\n",
    "        text_file.close()\n",
    "        return full_dictionary"
   ]
  },
  {
   "cell_type": "code",
   "execution_count": 9,
   "metadata": {},
   "outputs": [],
   "source": [
    "tries_remaining = 6\n",
    "guessed_letters = []\n",
    "\n",
    "full_dictionary_location = \"words_250000_train.txt\"\n",
    "test_dictionary_location = \"words_test.txt\"\n",
    "full_dictionary = build_dictionary(full_dictionary_location) \n",
    "test_dictionary = build_dictionary(test_dictionary_location)\n",
    "full_dictionary_common_letter_sorted = collections.Counter(\"\".join(full_dictionary)).most_common()\n",
    "current_dictionary = []\n",
    "wins = []\n",
    "lose_words = []\n",
    "\n",
    "# building relevant data structures such as substring and individual letter frequencies\n",
    "f = open(\"words_250000_train.txt\", \"r\")\n",
    "df = []\n",
    "for x in f:\n",
    "    df.append(x[:-1])\n",
    "\n",
    "temp = []\n",
    "_2gram = []\n",
    "_3gram = []\n",
    "_4gram = []    \n",
    "_5gram = []\n",
    "\n",
    "for word in df:\n",
    "    temp.append(list(word))         \n",
    "    _2gram.extend(list(ngrams(word, 2, pad_left=True, pad_right=True)))\n",
    "    _3gram.extend(list(ngrams(word, 3, pad_left=True, pad_right=True)))\n",
    "    _4gram.extend(list(ngrams(word, 4, pad_left=True, pad_right=True)))\n",
    "    _5gram.extend(list(ngrams(word, 5, pad_left=True, pad_right=True)))\n",
    "\n",
    "freq_2 = FreqDist(_2gram)\n",
    "freq_3 = FreqDist(_3gram)\n",
    "freq_4 = FreqDist(_4gram)\n",
    "freq_5 = FreqDist(_5gram)\n",
    "\n",
    "freq_2 = [(elem, freq_2.get(elem)) for elem in freq_2]\n",
    "freq_3 = [(elem, freq_3.get(elem)) for elem in freq_3]\n",
    "freq_4 = [(elem, freq_4.get(elem)) for elem in freq_4]\n",
    "freq_5 = [(elem, freq_5.get(elem)) for elem in freq_5]\n",
    "\n",
    "prev_guess = []\n",
    "\n",
    "vowels = ['a','e','i','o','u']\n",
    "\n",
    "word_len_dict = {}\n",
    "for i in range(3, 30):\n",
    "    word_len_dict[i] = []\n",
    "    for words in df:\n",
    "        if(len(words)>i):\n",
    "            for j in range(len(words)-i+1):\n",
    "                word_len_dict[i].append(words[j:j+i]) "
   ]
  },
  {
   "cell_type": "markdown",
   "metadata": {},
   "source": [
    "In my code, I think I have all of this... except I don't do the thing where I analyze vowel count."
   ]
  },
  {
   "cell_type": "code",
   "execution_count": 10,
   "metadata": {},
   "outputs": [
    {
     "name": "stdout",
     "output_type": "stream",
     "text": [
      "[('e', 233745), ('i', 184746), ('a', 179837), ('n', 152259), ('o', 150052), ('r', 149228), ('s', 148462), ('t', 137277), ('l', 122431), ('c', 89367)]\n"
     ]
    }
   ],
   "source": [
    "print(full_dictionary_common_letter_sorted[0:10])"
   ]
  },
  {
   "cell_type": "code",
   "execution_count": 15,
   "metadata": {},
   "outputs": [
    {
     "data": {
      "text/plain": [
       "['cyclotrimethylenetrinitramin',\n",
       " 'yclotrimethylenetrinitramine',\n",
       " 'trinitrophenylmethylnitramin',\n",
       " 'rinitrophenylmethylnitramine']"
      ]
     },
     "execution_count": 15,
     "metadata": {},
     "output_type": "execute_result"
    }
   ],
   "source": [
    "word_len_dict[28]"
   ]
  },
  {
   "cell_type": "markdown",
   "metadata": {},
   "source": [
    "`word_len_dict` is all of the words arranged into a dictionary by word length... I guess we will see why this is important later"
   ]
  },
  {
   "cell_type": "markdown",
   "metadata": {},
   "source": [
    "I have all of the `freq_n` in my code"
   ]
  },
  {
   "cell_type": "code",
   "execution_count": 16,
   "metadata": {},
   "outputs": [
    {
     "data": {
      "text/plain": [
       "[(('s', None), 41635),\n",
       " (('e', 'r'), 39200),\n",
       " (('i', 'n'), 37762),\n",
       " (('e', None), 33665),\n",
       " (('t', 'i'), 27596),\n",
       " (('o', 'n'), 27389),\n",
       " (('e', 's'), 27128),\n",
       " (('t', 'e'), 26219),\n",
       " (('a', 'n'), 25117),\n",
       " (('r', 'e'), 24800)]"
      ]
     },
     "execution_count": 16,
     "metadata": {},
     "output_type": "execute_result"
    }
   ],
   "source": [
    "freq_2[0:10]"
   ]
  },
  {
   "cell_type": "markdown",
   "metadata": {},
   "source": [
    "In my code, I got rid of the ones with `None` because I think I tried to match stuff a bit differently..."
   ]
  },
  {
   "cell_type": "markdown",
   "metadata": {},
   "source": [
    "I don't understand how the actual choosing happens really..."
   ]
  },
  {
   "cell_type": "code",
   "execution_count": null,
   "metadata": {},
   "outputs": [],
   "source": [
    "def candsort(cands, invalids, vowels, vowel_ratio):\n",
    "    \n",
    "    # chooses the highest scoring (most common) and valid candidate letter from candidate letters\n",
    "    for cand in cands:\n",
    "        if cand[0] == None or cand[0] in invalids:\n",
    "            continue\n",
    "        if cand[0] in vowels and vowel_ratio > 0.5:\n",
    "            continue\n",
    "        return cand \n",
    "    return ('!', 0, 1)"
   ]
  },
  {
   "cell_type": "markdown",
   "metadata": {},
   "source": [
    "This is the main part that matches the n-grams to the individual words."
   ]
  },
  {
   "cell_type": "code",
   "execution_count": null,
   "metadata": {},
   "outputs": [],
   "source": [
    "def ngram(self, word, index, invalids, freqs, vowel_ratio):\n",
    "    \n",
    "    # for each '_' found in the missing word, find valid substring matches and get appropriate weights,\n",
    "    # giving priority to more complete and longer substrings, tiebreakers between longer substrings are\n",
    "    # broken by higher weights or frequencies\n",
    "    \n",
    "    # candidate tuple structure is: (suggestion, weight, rank) \n",
    "    \n",
    "    freq_2, freq_3, freq_4, freq_5 = freqs\n",
    "    score1 = ('!', 0, 1)\n",
    "    score2 = ('!', 0, 1)\n",
    "    score3 = ('!', 0, 1)\n",
    "    \n",
    "    # i. case    \n",
    "    if index == 0:       \n",
    "        if word[index+1] == '.':\n",
    "            return ('!', 0, 1)\n",
    "\n",
    "        # iXXX Case\n",
    "        if (len(word) >= 4) and ('.' not in word[index+1:index+4]):\n",
    "                cands = [(elem[0][1], elem[1], 5) for elem in freq_5 if (elem[0][0] == None) and \n",
    "                                                                        (elem[0][2] == word[index+1]) and \n",
    "                                                                        (elem[0][3] == word[index+2]) and \n",
    "                                                                        (elem[0][4] == word[index+3])]\n",
    "                return self.candsort(cands, invalids, vowels, vowel_ratio)\n",
    "\n",
    "        # iXX Case\n",
    "        if (len(word) >= 3) and ('.' not in word[index+1:index+3]):\n",
    "                cands = [(elem[0][1], elem[1], 4) for elem in freq_4 if (elem[0][0] == None) and \n",
    "                                                                        (elem[0][2] == word[index+1]) and \n",
    "                                                                        (elem[0][3] == word[index+2])]\n",
    "                return self.candsort(cands, invalids, vowels, vowel_ratio)\n",
    "\n",
    "        # iX case\n",
    "        cands = [(elem[0][1], elem[1], 3) for elem in freq_3 if (elem[0][0] == None) and \n",
    "                                                                (elem[0][2] == word[index+1])]       \n",
    "        return self.candsort(cands, invalids, vowels, vowel_ratio)\n",
    "\n",
    "\n",
    "    # .i case    \n",
    "    if index == len(word)-1:      \n",
    "        if word[index-1] == '.':\n",
    "            return ('!', 0, 1)\n",
    "\n",
    "        # XXXi case:\n",
    "        if (len(word) >= 4) and ('.' not in word[index-3:index]):\n",
    "                cands = [(elem[0][3], elem[1], 5) for elem in freq_5 if (elem[0][0] == word[index-3]) and \n",
    "                                                                        (elem[0][1] == word[index-2]) and \n",
    "                                                                        (elem[0][2] == word[index-1]) and \n",
    "                                                                        (elem[0][4] == None)]\n",
    "                return self.candsort(cands, invalids, vowels, vowel_ratio)         \n",
    "\n",
    "        # XXi case\n",
    "        if (len(word) >= 3) and ('.' not in word[index-2:index]):\n",
    "                cands = [(elem[0][2], elem[1], 4) for elem in freq_4 if (elem[0][0] == word[index-2]) and \n",
    "                                                                        (elem[0][1] == word[index-1]) and \n",
    "                                                                        (elem[0][3] == None)]\n",
    "                return self.candsort(cands, invalids, vowels, vowel_ratio)    \n",
    "\n",
    "        # Xi case\n",
    "        cands = [(elem[0][1], elem[1], 3) for elem in freq_3 if (elem[0][0] == word[index-1]) and \n",
    "                                                                (elem[0][2] == None)]\n",
    "        return self.candsort(cands, invalids, vowels, vowel_ratio)\n",
    "\n",
    "\n",
    "    else:  \n",
    "        # .i. case\n",
    "        if word[index-1] == '.' and word[index+1] == '.':\n",
    "            return ('!', 0, 1)\n",
    "\n",
    "\n",
    "        # .iX family\n",
    "        if word[index-1] == '.'and word[index+1] != '.': \n",
    "\n",
    "\n",
    "            # .iXXXX case\n",
    "            if (len(word) - index >= 5) and (index >= 1) and ('.' not in word[index+1:index+5]):\n",
    "                    cands = [(elem[0][1], elem[1], 5) for elem in freq_5 if (elem[0][2] == word[index+1]) and \n",
    "                                                                            (elem[0][3] == word[index+2]) and \n",
    "                                                                            (elem[0][4] == word[index+3])]\n",
    "                    score1 = self.candsort(cands, invalids, vowels, vowel_ratio)\n",
    "\n",
    "            # X.iXX case        \n",
    "            if (len(word) - index >= 3) and (index >= 2) and (word[index+2] != '.') and (word[index-2] != '.'):\n",
    "                    cands = [(elem[0][2], elem[1], 5) for elem in freq_5 if (elem[0][0] == word[index-2]) and \n",
    "                                                                            (elem[0][3] == word[index+1]) and \n",
    "                                                                            (elem[0][4] == word[index+2])]\n",
    "                    score2 = self.candsort(cands, invalids, vowels, vowel_ratio)\n",
    "\n",
    "            # XX.iX case                \n",
    "            if (len(word) - index >= 2) and (index >= 3) and ('.' not in word[index-3:index-1]):\n",
    "                    cands = [(elem[0][3], elem[1], 5) for elem in freq_5 if (elem[0][0] == word[index-3]) and \n",
    "                                                                            (elem[0][1] == word[index-2]) and \n",
    "                                                                            (elem[0][4] == word[index+1])]\n",
    "                    score3 = self.candsort(cands, invalids, vowels, vowel_ratio)\n",
    "\n",
    "            if (score1 != score2) or (score2 != score3) or (score1 != score3):\n",
    "                best_score = sorted([score1, score2, score3], key = lambda x: (x[2], x[1]), reverse=True)\n",
    "                return best_score[0]                    \n",
    "\n",
    "\n",
    "            # .iXX case            \n",
    "            if (len(word) - index >= 3) and (index >= 1) and (word[index+2] != '.'):\n",
    "                    cands = [(elem[0][0], elem[1], 3) for elem in freq_3 if (elem[0][1] == word[index+1]) and \n",
    "                                                                            (elem[0][2] == word[index+2])]\n",
    "                    score1 = self.candsort(cands, invalids, vowels, vowel_ratio)\n",
    "\n",
    "            # X.iX case\n",
    "            if (len(word) - index >= 2) and (index >= 2) and (word[index-2] != '.'):\n",
    "                    cands = [(elem[0][2], elem[1], 4) for elem in freq_4 if (elem[0][0] == word[index-2]) and \n",
    "                                                                            (elem[0][3] == word[index+1])]\n",
    "                    score2 = self.candsort(cands, invalids, vowels, vowel_ratio)\n",
    "\n",
    "            if score1 != score2:\n",
    "                best_score = sorted([score1, score2], key = lambda x: (x[2], x[1]), reverse=True)\n",
    "                return best_score[0]        \n",
    "\n",
    "            # .iX        \n",
    "            cands = [(elem[0][0], elem[1], 2) for elem in freq_2 if elem[0][1] == word[index+1]]\n",
    "            return self.candsort(cands, invalids, vowels, vowel_ratio)\n",
    "\n",
    "\n",
    "        # Xi. family\n",
    "        if word[index-1] != '.'and word[index+1] == '.':\n",
    "\n",
    "            # XXXXi. case\n",
    "            if (len(word) - index >= 2) and (index >= 4) and ('.' not in word[index-4:index-1]):\n",
    "                    cands = [(elem[0][3], elem[1], 5) for elem in freq_5 if (elem[0][0] == word[index-3]) and\n",
    "                                                                            (elem[0][1] == word[index-2]) and \n",
    "                                                                            (elem[0][2] == word[index-1])]\n",
    "                    score1 = self.candsort(cands, invalids, vowels, vowel_ratio)\n",
    "\n",
    "            # XXi.X case                    \n",
    "            if (len(word) - index >= 3) and (index >= 2) and (word[index+2] != '.') and (word[index-2] != '.'):\n",
    "                    cands = [(elem[0][2], elem[1], 5) for elem in freq_5 if (elem[0][0] == word[index-2]) and \n",
    "                                                                            (elem[0][1] == word[index-1]) and \n",
    "                                                                            (elem[0][4] == word[index+2])]\n",
    "                    score2 = self.candsort(cands, invalids, vowels, vowel_ratio)\n",
    "            \n",
    "            # Xi.XX case\n",
    "            if (len(word) - index >= 4) and (index >= 1) and ('.' not in word[index+2:index+4]):\n",
    "                    cands = [(elem[0][1], elem[1], 5) for elem in freq_5 if (elem[0][0] == word[index-1]) and \n",
    "                                                                            (elem[0][3] == word[index+2]) and \n",
    "                                                                            (elem[0][4] == word[index+3])]\n",
    "                    score3 = self.candsort(cands, invalids, vowels, vowel_ratio)\n",
    "\n",
    "            if (score1 != score2) or (score2 != score3) or (score1 != score3):\n",
    "                best_score = sorted([score1, score2, score3], key = lambda x: (x[2], x[1]), reverse=True)\n",
    "                return best_score[0]  \n",
    "\n",
    "\n",
    "            # XXi. case\n",
    "            if (index >= 2) and (word[index-2] != '.'):\n",
    "                    cands = [(elem[0][2], elem[1], 3) for elem in freq_3 if (elem[0][0] == word[index-2]) and \n",
    "                                                                            (elem[0][1] == word[index-1])]\n",
    "                    score1 = self.candsort(cands, invalids, vowels, vowel_ratio)\n",
    "            \n",
    "            # Xi.X case\n",
    "            if (len(word) - index >= 3) and (index >= 1) and (word[index+2] != '.'):\n",
    "                    cands = [(elem[0][1], elem[1], 4) for elem in freq_4 if (elem[0][0] == word[index-1]) and \n",
    "                                                                            (elem[0][3] == word[index+2])]\n",
    "                    score2 = self.candsort(cands, invalids, vowels, vowel_ratio)\n",
    "\n",
    "            if score1 != score2:\n",
    "                best_score = sorted([score1, score2], key = lambda x: (x[2], x[1]), reverse=True)\n",
    "                return best_score[0]     \n",
    "\n",
    "            # Xi. case\n",
    "            cands = [(elem[0][1], elem[1], 2) for elem in freq_2 if elem[0][0] == word[index-1]]\n",
    "            return self.candsort(cands, invalids, vowels, vowel_ratio)\n",
    "\n",
    "\n",
    "        # XiX family\n",
    "        if word[index-1] != '.'and word[index+1] != '.':\n",
    "            \n",
    "            # XXiXX case\n",
    "            if (len(word) - index >= 3) and (index >= 2) and ('.' not in word[index-2:index+3]):\n",
    "                    cands = [(elem[0][2], elem[1], 5) for elem in freq_5 if (elem[0][0] == word[index-2]) and \n",
    "                                                                            (elem[0][1] == word[index-1]) and \n",
    "                                                                            (elem[0][3] == word[index+1]) and\n",
    "                                                                            (elem[0][4] == word[index+2])]\n",
    "                    score1 = self.candsort(cands, invalids, vowels, vowel_ratio)\n",
    "\n",
    "            # XiXXX case\n",
    "            if (len(word) - index >= 4) and (index >= 1) and ('.' not in word[index-1:index+4]):\n",
    "                    cands = [(elem[0][1], elem[1], 5) for elem in freq_5 if (elem[0][0] == word[index-1]) and \n",
    "                                                                            (elem[0][2] == word[index+1]) and \n",
    "                                                                            (elem[0][3] == word[index+2]) and\n",
    "                                                                            (elem[0][4] == word[index+3])]\n",
    "                    score2 = self.candsort(cands, invalids, vowels, vowel_ratio)\n",
    "\n",
    "            # XXXiX case\n",
    "            if (len(word) - index >= 2) and (index >= 3) and ('.' not in word[index-3:index+2]):\n",
    "                    cands = [(elem[0][3], elem[1], 5) for elem in freq_5 if (elem[0][0] == word[index-3]) and \n",
    "                                                                            (elem[0][1] == word[index-2]) and \n",
    "                                                                            (elem[0][2] == word[index-1]) and\n",
    "                                                                            (elem[0][4] == word[index+1])]\n",
    "                    score3 = self.candsort(cands, invalids, vowels, vowel_ratio)\n",
    "\n",
    "            if (score1 != score2) or (score2 != score3) or (score1 != score3):\n",
    "                best_score = sorted([score1, score2, score3], key = lambda x: (x[2], x[1]), reverse=True)\n",
    "                return best_score[0]                          \n",
    "\n",
    "\n",
    "            # XiXX case\n",
    "            if len(word) - index >= 3 and word[index+2] != '.':\n",
    "                    cands = [(elem[0][1], elem[1], 4) for elem in freq_4 if (elem[0][0] == word[index-1]) and \n",
    "                                                                            (elem[0][2] == word[index+1]) and \n",
    "                                                                            (elem[0][3] == word[index+2])]\n",
    "                    score1 = self.candsort(cands, invalids, vowels, vowel_ratio)\n",
    "\n",
    "            # XXiX case\n",
    "            if index >= 2 and word[index-2] != '.':\n",
    "                    cands = [(elem[0][2], elem[1], 4) for elem in freq_4 if (elem[0][0] == word[index-2]) and \n",
    "                                                                            (elem[0][1] == word[index-1]) and \n",
    "                                                                            (elem[0][3] == word[index+1])]\n",
    "                    score2 = self.candsort(cands, invalids, vowels, vowel_ratio)\n",
    "\n",
    "            if score1 != score2:\n",
    "                best_score = sorted([score1, score2], key = lambda x: (x[2], x[1]), reverse=True)\n",
    "                return best_score[0]            \n",
    "\n",
    "\n",
    "            # XiX case\n",
    "            cands = [(elem[0][1], elem[1], 3) for elem in freq_3 if (elem[0][0] == word[index-1]) and \n",
    "                                                                    (elem[0][2] == word[index+1])]\n",
    "            return self.candsort(cands, invalids, vowels, vowel_ratio)"
   ]
  }
 ],
 "metadata": {
  "kernelspec": {
   "display_name": "Python 3",
   "language": "python",
   "name": "python3"
  },
  "language_info": {
   "codemirror_mode": {
    "name": "ipython",
    "version": 3
   },
   "file_extension": ".py",
   "mimetype": "text/x-python",
   "name": "python",
   "nbconvert_exporter": "python",
   "pygments_lexer": "ipython3",
   "version": "3.10.11"
  }
 },
 "nbformat": 4,
 "nbformat_minor": 2
}
