{
 "cells": [
  {
   "cell_type": "markdown",
   "metadata": {},
   "source": [
    "# My hangman file"
   ]
  },
  {
   "cell_type": "code",
   "execution_count": 2,
   "metadata": {},
   "outputs": [],
   "source": [
    "tf = open(\"words_250000_train.txt\",\"r\")\n",
    "full_dict = tf.read().splitlines()\n",
    "tf.close()\n"
   ]
  },
  {
   "cell_type": "code",
   "execution_count": 10,
   "metadata": {},
   "outputs": [
    {
     "data": {
      "text/plain": [
       "'unregainable'"
      ]
     },
     "execution_count": 10,
     "metadata": {},
     "output_type": "execute_result"
    }
   ],
   "source": [
    "random.choice(full_dict)"
   ]
  },
  {
   "cell_type": "markdown",
   "metadata": {},
   "source": [
    "So, I think the best way to do this would be to make a decision tree from scratch, but I think there is an issue of outliers that I am not super sure how to deal with. I think the dictionary is big enough that there are some words that the algorithm should figure out how to throw out. Like if there are 2 moves left, it should make the highest probability assumption it can which eliminates trees with more than 2 moves of surprise.\n",
    "\n",
    "So... I think how the algorithm should work is, it doesnt just pick the ONE letter that would maximize the entropy next, it should find like a PATH of guesses that maximally reduces the entropy.\n",
    "\n",
    "I am assuming there are always 6 tries, which seems a bit low..."
   ]
  },
  {
   "cell_type": "markdown",
   "metadata": {},
   "source": [
    "It seems a bit complex though... If I build a tree I don't have to constantly re-calculate it, but I just move from node to node.\n",
    "\n",
    "HOW DO I MAKE A TREE WITH NO LABELS THOUGH?"
   ]
  },
  {
   "cell_type": "code",
   "execution_count": 5,
   "metadata": {},
   "outputs": [],
   "source": [
    "import json\n",
    "import requests\n",
    "import random\n",
    "import string\n",
    "import secrets\n",
    "import time\n",
    "import re\n",
    "import collections"
   ]
  },
  {
   "cell_type": "markdown",
   "metadata": {},
   "source": [
    "For testing purposes, I want to just remake hangman here so I can mess with it. So gut all of the connection to some external anything. I think I know how it works from running it a bit."
   ]
  },
  {
   "cell_type": "code",
   "execution_count": 97,
   "metadata": {},
   "outputs": [],
   "source": [
    "class MyHangman(object):\n",
    "    def __init__(self, access_token=None, session=None, timeout=None):\n",
    "        self.guessed_letters = []\n",
    "        #should include a self word and self correct word\n",
    "        self.word = \"\"\n",
    "        self.correct_word = \"\"\n",
    "        full_dictionary_location = \"words_250000_train.txt\"\n",
    "        self.full_dictionary = self.build_dictionary(full_dictionary_location)        \n",
    "        self.full_dictionary_common_letter_sorted = collections.Counter(\"\".join(self.full_dictionary)).most_common()\n",
    "        \n",
    "        self.current_dictionary = []\n",
    "        \n",
    "    def generate_correct_word(self):\n",
    "        self.correct_word = random.choice(self.full_dictionary)\n",
    "\n",
    "\n",
    "    def guess(self, word): # word input example: \"_ p p _ e \"\n",
    "        ###############################################\n",
    "        # Replace with your own \"guess\" function here #\n",
    "        ###############################################\n",
    "\n",
    "        # clean the word so that we strip away the space characters\n",
    "        # replace \"_\" with \".\" as \".\" indicates any character in regular expressions\n",
    "        # The extra space characters must be coming from the website...\n",
    "        clean_word = word.replace(\" \", \"\") #I am putting this here in case I forget later to remove the space stuff when I paste this into the solution\n",
    "        clean_word = word.replace(\"_\",\".\")\n",
    "        \n",
    "        # find length of passed word\n",
    "        len_word = len(clean_word)\n",
    "        \n",
    "        # grab current dictionary of possible words from self object, initialize new possible words dictionary to empty\n",
    "        current_dictionary = self.current_dictionary\n",
    "        new_dictionary = []\n",
    "        \n",
    "        # iterate through all of the words in the old plausible dictionary\n",
    "        for dict_word in current_dictionary:\n",
    "            # continue if the word is not of the appropriate length\n",
    "            if len(dict_word) != len_word:\n",
    "                continue\n",
    "                \n",
    "            # if dictionary word is a possible match then add it to the current dictionary\n",
    "            if re.match(clean_word,dict_word):\n",
    "                new_dictionary.append(dict_word)\n",
    "        \n",
    "        # overwrite old possible words dictionary with updated version\n",
    "        self.current_dictionary = new_dictionary\n",
    "        \n",
    "        \n",
    "        # count occurrence of all characters in possible word matches\n",
    "        full_dict_string = \"\".join(new_dictionary)\n",
    "        \n",
    "        c = collections.Counter(full_dict_string)\n",
    "        sorted_letter_count = c.most_common()                   \n",
    "        \n",
    "        guess_letter = '!'\n",
    "        \n",
    "        # return most frequently occurring letter in all possible words that hasn't been guessed yet\n",
    "        for letter,instance_count in sorted_letter_count:\n",
    "            if letter not in self.guessed_letters:\n",
    "                guess_letter = letter\n",
    "                break\n",
    "            \n",
    "        # if no word matches in training dictionary, default back to ordering of full dictionary\n",
    "        if guess_letter == '!':\n",
    "            sorted_letter_count = self.full_dictionary_common_letter_sorted\n",
    "            for letter,instance_count in sorted_letter_count:\n",
    "                if letter not in self.guessed_letters:\n",
    "                    guess_letter = letter\n",
    "                    break            \n",
    "        \n",
    "        return guess_letter\n",
    "\n",
    "    ##########################################################\n",
    "    # You'll likely not need to modify any of the code below #\n",
    "    ##########################################################\n",
    "    \n",
    "    def build_dictionary(self, dictionary_file_location):\n",
    "        text_file = open(dictionary_file_location,\"r\")\n",
    "        full_dictionary = text_file.read().splitlines()\n",
    "        text_file.close()\n",
    "        return full_dictionary\n",
    "\n",
    "    #what do I need to replace the responses?\n",
    "    #get a word\n",
    "    #get remaining tries\n",
    "    #print number of tries remaining\n",
    "    #go through the process of resolving a guess\n",
    "    #\n",
    "\n",
    "    def handle_guess(self, guessLetter, currentWord, ans):\n",
    "        #I have to convert the strings to lists, find indices of the letter (if present) and then smush the lists back into strings and spit it out\n",
    "        indices = [i for i, x in enumerate(list(ans)) if x == guessLetter]\n",
    "        wordList = list(currentWord)\n",
    "        for i in indices:\n",
    "            wordList[i] = guessLetter #now I replace the occurrences of the letter\n",
    "        word = \"\".join(wordList)\n",
    "        return word\n",
    "        \n",
    "                \n",
    "    def start_game(self, practice=True, verbose=True):\n",
    "        # reset guessed letters to empty set and current plausible dictionary to the full dictionary\n",
    "        self.guessed_letters = []\n",
    "        self.current_dictionary = self.full_dictionary\n",
    "\n",
    "        #pick a word from the dictionary at random.\n",
    "        #correctWord = random.choice(self.full_dictionary) #this is the initial word, but need to update it based on guesses\n",
    "        self.generate_correct_word()\n",
    "        word = \"_\" * len(self.correct_word) #I should make this a member of self but I don't think its necessary and this is just a hack thing anyways\n",
    "\n",
    "        tries_remains = 6 #I think this needs to just be a magic number?\n",
    "        if verbose:\n",
    "            print(\"Successfully start a new game! # of tries remaining: {0}. Word: {1}.\".format(tries_remains, word))\n",
    "        while tries_remains >0:\n",
    "            #tries_remains -=1 tries remains decreases after WRONG answer\n",
    "\n",
    "            #get guessed letter\n",
    "            guess_letter = self.guess(word)\n",
    "\n",
    "            #append guessed letter to guessed letters field in hangman object\n",
    "            self.guessed_letters.append(guess_letter)\n",
    "            if verbose:\n",
    "                print(\"Guessing letter: {0}\".format(guess_letter))\n",
    "\n",
    "            #apply guessed letter to the word\n",
    "            new_word = self.handle_guess(guess_letter, word, self.correct_word) \n",
    "\n",
    "            #check if we have the word\n",
    "            if new_word == self.correct_word:\n",
    "                word = new_word\n",
    "                print(\"Success! the word was: %s\" % word)\n",
    "                break\n",
    "            \n",
    "            if new_word == word:\n",
    "                #this means that we did not get a correct guess\n",
    "                #decrease number of tries\n",
    "                print(\"Incorrect guess {0}, # of tries remaining: {1}. Word: {2}.\".format(guess_letter,tries_remains, word))\n",
    "                tries_remains -=1\n",
    "            else:\n",
    "                #We have a correct letter guessed, but not the complete word\n",
    "                #don't decrement tries_remains\n",
    "                word = new_word\n",
    "                print(\"Got a Letter, {0}, # of tries remaining: {1}. Word: {2}.\".format(guess_letter,tries_remains, word))\n",
    "        if tries_remains == 0:\n",
    "            print(\"You Lose, the answer was: %s\" % self.correct_word)\n",
    "                \n",
    "\n",
    "\n",
    "            \n",
    "\n",
    "\n",
    "\n",
    "        \"\"\"\"\"           \n",
    "        response = self.request(\"/new_game\", {\"practice\":practice})\n",
    "        if response.get('status')==\"approved\":\n",
    "            game_id = response.get('game_id')\n",
    "            word = response.get('word')\n",
    "            tries_remains = response.get('tries_remains')\n",
    "            if verbose:\n",
    "                print(\"Successfully start a new game! Game ID: {0}. # of tries remaining: {1}. Word: {2}.\".format(game_id, tries_remains, word))\n",
    "            while tries_remains>0:\n",
    "                # get guessed letter from user code\n",
    "                guess_letter = self.guess(word)\n",
    "                    \n",
    "                # append guessed letter to guessed letters field in hangman object\n",
    "                self.guessed_letters.append(guess_letter)\n",
    "                if verbose:\n",
    "                    print(\"Guessing letter: {0}\".format(guess_letter))\n",
    "                    \n",
    "                try:    \n",
    "                    res = self.request(\"/guess_letter\", {\"request\":\"guess_letter\", \"game_id\":game_id, \"letter\":guess_letter})\n",
    "                except HangmanAPIError:\n",
    "                    print('HangmanAPIError exception caught on request.')\n",
    "                    continue\n",
    "                except Exception as e:\n",
    "                    print('Other exception caught on request.')\n",
    "                    raise e\n",
    "               \n",
    "                if verbose:\n",
    "                    print(\"Sever response: {0}\".format(res))\n",
    "                status = res.get('status')\n",
    "                tries_remains = res.get('tries_remains')\n",
    "                if status==\"success\":\n",
    "                    if verbose:\n",
    "                        print(\"Successfully finished game: {0}\".format(game_id))\n",
    "                    return True\n",
    "                elif status==\"failed\":\n",
    "                    reason = res.get('reason', '# of tries exceeded!')\n",
    "                    if verbose:\n",
    "                        print(\"Failed game: {0}. Because of: {1}\".format(game_id, reason))\n",
    "                    return False\n",
    "                elif status==\"ongoing\":\n",
    "                    word = res.get('word')\n",
    "        else:\n",
    "            if verbose:\n",
    "                print(\"Failed to start a new game\")\n",
    "        return status==\"success\"\n",
    "    \"\"\"\"\"\n",
    "        "
   ]
  },
  {
   "cell_type": "code",
   "execution_count": 52,
   "metadata": {},
   "outputs": [
    {
     "name": "stdout",
     "output_type": "stream",
     "text": [
      "_____\n"
     ]
    }
   ],
   "source": [
    "word = \"_____\"\n",
    "correctWord = \"apple\"\n",
    "letter = \"z\"\n",
    "#I have to convert the strings to lists, find indices of the letter (if present) and then smush the lists back into strings and spit it out\n",
    "indices = [i for i, x in enumerate(list(correctWord)) if x == letter]\n",
    "wordList = list(word)\n",
    "for i in indices:\n",
    "    wordList[i] = letter #now I replace the occurrences of\n",
    "\n",
    "word = \"\".join(wordList)\n",
    "\n",
    "#while lidx != -1:\n",
    "#    word[lidx] = letter\n",
    "#    lidx = correctWord.find(letter)\n",
    "print(word)"
   ]
  },
  {
   "cell_type": "code",
   "execution_count": 101,
   "metadata": {},
   "outputs": [
    {
     "name": "stdout",
     "output_type": "stream",
     "text": [
      "Successfully start a new game! # of tries remaining: 6. Word: _________.\n",
      "Guessing letter: e\n",
      "Got a Letter, e, # of tries remaining: 6. Word: e_______e.\n",
      "Guessing letter: a\n",
      "Got a Letter, a, # of tries remaining: 6. Word: e___a___e.\n",
      "Guessing letter: t\n",
      "Incorrect guess t, # of tries remaining: 6. Word: e___a___e.\n",
      "Guessing letter: i\n",
      "Incorrect guess i, # of tries remaining: 5. Word: e___a___e.\n",
      "Guessing letter: n\n",
      "Got a Letter, n, # of tries remaining: 4. Word: e___an__e.\n",
      "Guessing letter: l\n",
      "Got a Letter, l, # of tries remaining: 4. Word: e___an_le.\n",
      "Guessing letter: g\n",
      "Got a Letter, g, # of tries remaining: 4. Word: e___angle.\n",
      "Guessing letter: r\n",
      "Got a Letter, r, # of tries remaining: 4. Word: e__rangle.\n",
      "Guessing letter: m\n",
      "Got a Letter, m, # of tries remaining: 4. Word: em_rangle.\n",
      "Guessing letter: b\n",
      "Success! the word was: embrangle\n"
     ]
    }
   ],
   "source": [
    "game = MyHangman()\n",
    "game.start_game()"
   ]
  },
  {
   "cell_type": "markdown",
   "metadata": {},
   "source": [
    "Ugh, after looking at this, I need to modify the MyHangman code to get some data from it right?"
   ]
  },
  {
   "cell_type": "markdown",
   "metadata": {},
   "source": [
    "Ok... finally I can start writing the strategy... that shouldn't be too difficult right (uhhh)\n",
    "\n"
   ]
  },
  {
   "cell_type": "markdown",
   "metadata": {},
   "source": [
    "My understanding is that there are 2 ways to do this... one that is the theoretical best strategy and the other that is just a good heuristic.\n",
    "\n",
    "https://cs.stackexchange.com/questions/128667/what-is-the-optimal-algorithm-for-playing-the-hangman-word-game\n",
    "\n",
    "The good one is to look at the game like a decision tree, see which choices have the highest entropy and make those. Of course there would be complications like you plan your route through the tree, and you have to figure out which nodes should be inaccessible?\n",
    "\n",
    "The other is to get a game state function and use it to construct a matrix and then minimize it? I don't really get it right now. This uses dynamic programming, which is optimization over plain recursion?"
   ]
  },
  {
   "cell_type": "markdown",
   "metadata": {},
   "source": [
    "So... let's say the word is $apple$, and look at a bit...\n",
    "\n",
    "first prune dict to 5 letter words"
   ]
  },
  {
   "cell_type": "code",
   "execution_count": 105,
   "metadata": {},
   "outputs": [
    {
     "name": "stdout",
     "output_type": "stream",
     "text": [
      "_____\n",
      ".....\n",
      "a\n"
     ]
    }
   ],
   "source": [
    "corr_word = \"apple\"\n",
    "word = \"_____\"\n",
    "guessed_letters = []\n",
    "full_dictionary_common_letter_sorted = collections.Counter(\"\".join(full_dict)).most_common()\n",
    "\n",
    "\n",
    "###############################################\n",
    "# Replace with your own \"guess\" function here #\n",
    "###############################################\n",
    "\n",
    "# clean the word so that we strip away the space characters\n",
    "# replace \"_\" with \".\" as \".\" indicates any character in regular expressions\n",
    "clean_word = word.replace(\" \", \"\") #I am putting this here in case I forget later to remove the space stuff when I paste this into the solution\n",
    "clean_word = word.replace(\"_\",\".\")\n",
    "print(word)\n",
    "#print(word[::2])\n",
    "print(clean_word)\n",
    "\n",
    "# find length of passed word\n",
    "len_word = len(clean_word)\n",
    "\n",
    "# grab current dictionary of possible words from self object, initialize new possible words dictionary to empty\n",
    "current_dictionary = full_dict\n",
    "\n",
    "new_dictionary = []\n",
    "\n",
    "# iterate through all of the words in the old plausible dictionary\n",
    "for dict_word in current_dictionary:\n",
    "    # continue if the word is not of the appropriate length\n",
    "    if len(dict_word) != len_word:\n",
    "        continue\n",
    "        \n",
    "    # if dictionary word is a possible match then add it to the current dictionary\n",
    "    if re.match(clean_word,dict_word):\n",
    "        new_dictionary.append(dict_word)\n",
    "\n",
    "# overwrite old possible words dictionary with updated version\n",
    "current_dictionary = new_dictionary\n",
    "\n",
    "\n",
    "# count occurrence of all characters in possible word matches\n",
    "full_dict_string = \"\".join(new_dictionary)\n",
    "\n",
    "c = collections.Counter(full_dict_string)\n",
    "sorted_letter_count = c.most_common()                   \n",
    "\n",
    "guess_letter = '!'\n",
    "\n",
    "# return most frequently occurring letter in all possible words that hasn't been guessed yet\n",
    "for letter,instance_count in sorted_letter_count:\n",
    "    if letter not in guessed_letters:\n",
    "        guess_letter = letter\n",
    "        break\n",
    "    \n",
    "# if no word matches in training dictionary, default back to ordering of full dictionary\n",
    "if guess_letter == '!':\n",
    "    sorted_letter_count = full_dictionary_common_letter_sorted\n",
    "    for letter,instance_count in sorted_letter_count:\n",
    "        if letter not in guessed_letters:\n",
    "            guess_letter = letter\n",
    "            break            \n",
    "\n",
    "#return guess_letter\n",
    "print(guess_letter)\n"
   ]
  },
  {
   "cell_type": "code",
   "execution_count": null,
   "metadata": {},
   "outputs": [],
   "source": []
  }
 ],
 "metadata": {
  "kernelspec": {
   "display_name": "Python 3",
   "language": "python",
   "name": "python3"
  },
  "language_info": {
   "codemirror_mode": {
    "name": "ipython",
    "version": 3
   },
   "file_extension": ".py",
   "mimetype": "text/x-python",
   "name": "python",
   "nbconvert_exporter": "python",
   "pygments_lexer": "ipython3",
   "version": "3.10.11"
  }
 },
 "nbformat": 4,
 "nbformat_minor": 2
}
