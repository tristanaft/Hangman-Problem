{
 "cells": [
  {
   "cell_type": "markdown",
   "metadata": {},
   "source": [
    "# My hangman file"
   ]
  },
  {
   "cell_type": "code",
   "execution_count": 1,
   "metadata": {},
   "outputs": [],
   "source": [
    "import json\n",
    "import numpy\n",
    "import math\n",
    "import requests\n",
    "import random\n",
    "import string\n",
    "import secrets\n",
    "import time\n",
    "import re\n",
    "import collections\n",
    "import pandas as pd\n",
    "import numpy as np\n",
    "import torch"
   ]
  },
  {
   "cell_type": "code",
   "execution_count": 2,
   "metadata": {},
   "outputs": [],
   "source": [
    "tf = open(\"words_250000_train.txt\",\"r\")\n",
    "full_dict = tf.read().splitlines()\n",
    "tf.close()\n"
   ]
  },
  {
   "cell_type": "markdown",
   "metadata": {},
   "source": [
    "Hmmmm, I should do a test-train split on the full dictionary..."
   ]
  },
  {
   "cell_type": "code",
   "execution_count": 3,
   "metadata": {},
   "outputs": [],
   "source": [
    "from sklearn.model_selection import train_test_split\n",
    "dict_train, dict_test = train_test_split(full_dict)"
   ]
  },
  {
   "cell_type": "markdown",
   "metadata": {},
   "source": [
    "ughhhh how do I actually code up the AI model? I have the GAME, I need the PLAYER!\n",
    "\n",
    "\n",
    "The model needs to accept:\n",
    "an n-letter word, with letters/blanks encoded as one-hots (n by 27 dense vector)\n",
    "a 1 x 26 vector of guesses made so far (0 for no guess, 1 for guess)\n",
    "\n",
    "it needs to return as output:\n",
    "1 x 26 vector of which argmax is the letter the model \"chooses next\""
   ]
  },
  {
   "cell_type": "code",
   "execution_count": 4,
   "metadata": {},
   "outputs": [
    {
     "name": "stdout",
     "output_type": "stream",
     "text": [
      "Training set size: 170475\n",
      "Max input size: 29\n",
      "Average word length: 9.346514\n"
     ]
    }
   ],
   "source": [
    "n_epochs = 100\n",
    "max_input_length = max([len(word) for word in dict_train])\n",
    "batch_size = np.array([len(word) for word in dict_train]).mean()\n",
    "print(\"Training set size: %i\" % len(dict_train))\n",
    "print(\"Max input size: %i\" % max_input_length)\n",
    "print(\"Average word length: %f\" % batch_size)\n"
   ]
  },
  {
   "cell_type": "code",
   "execution_count": 5,
   "metadata": {},
   "outputs": [
    {
     "data": {
      "text/plain": [
       "29"
      ]
     },
     "execution_count": 5,
     "metadata": {},
     "output_type": "execute_result"
    }
   ],
   "source": [
    "max_input_length"
   ]
  },
  {
   "cell_type": "code",
   "execution_count": 6,
   "metadata": {},
   "outputs": [
    {
     "data": {
      "text/plain": [
       "227300"
      ]
     },
     "execution_count": 6,
     "metadata": {},
     "output_type": "execute_result"
    }
   ],
   "source": [
    "len(full_dict)"
   ]
  },
  {
   "cell_type": "code",
   "execution_count": 7,
   "metadata": {},
   "outputs": [
    {
     "name": "stdout",
     "output_type": "stream",
     "text": [
      "layamon\n",
      "__y____\n",
      "['d', 'w', 'e', 'b', 'z', 'y']\n",
      "['l', 'n', 'o', 'm', 'a']\n"
     ]
    }
   ],
   "source": [
    "alphabet = list(string.ascii_lowercase)\n",
    "orig_word = random.choice(dict_train)\n",
    "blanked_word = \"_\" * len(orig_word)\n",
    "#I want a distribution biased towards 0 instead of a flat one for choosing guesses\n",
    "#do I though?\n",
    "num_guesses = round(random.triangular(0,10))\n",
    "guess_list = random.sample(alphabet, num_guesses)\n",
    "\n",
    "if(num_guesses != 0):\n",
    "    for guess_letter in guess_list:\n",
    "        indices = [i for i, x in enumerate(list(orig_word)) if x == guess_letter]\n",
    "        wordList = list(blanked_word)\n",
    "        for i in indices:\n",
    "            wordList[i] = guess_letter #now I replace the occurrences of the letter\n",
    "        blanked_word = \"\".join(wordList)\n",
    "\n",
    "remaining_correct_guesses = list(set(orig_word) - set(guess_list))\n",
    "\n",
    "print(orig_word)\n",
    "print(blanked_word)\n",
    "print(guess_list)\n",
    "print(remaining_correct_guesses)\n"
   ]
  },
  {
   "cell_type": "markdown",
   "metadata": {},
   "source": [
    "Ok, so now what, we have input:\n",
    "\n",
    "blanked word -> encode it\n",
    "guess list -> encode it\n",
    "remaining correct guesses *this is the target -> encode it?\n",
    "\n",
    "how do I encode the blanked word though? the strings also have variable length...\n",
    "\n",
    "Ok, convert word into numbers"
   ]
  },
  {
   "cell_type": "code",
   "execution_count": 12,
   "metadata": {},
   "outputs": [],
   "source": [
    "longest_word_length = 45"
   ]
  },
  {
   "cell_type": "code",
   "execution_count": 27,
   "metadata": {},
   "outputs": [],
   "source": [
    "def word_to_tensor(current_word):\n",
    "    longest_word_length = 45 #this is the longest word in the english language\n",
    "    #first, encode word: ex \"apple\"\n",
    "    #assume word is something like \"_pp__\"\n",
    "    alphabet = list(string.ascii_lowercase) \n",
    "    alphabet.append(\"_\")#this is for blanks\n",
    "    #alphabet.append(\"=\") # using this for generic padding\n",
    "    #input_length = longest_word_length + n_letters+1\n",
    "    num_letters = len(alphabet)\n",
    "\n",
    "    # the current word tensor needs to be encoded as a 1 x 27 x N length tensor\n",
    "    # 1 because we are using batches of 1, 27 because 26 letters + \"_\" and N is the max word length\n",
    "    current_word_tensor = torch.zeros(1,num_letters,longest_word_length)\n",
    "    for widx, letter in enumerate(current_word):\n",
    "        #print(widx)\n",
    "        #print(letter)\n",
    "        current_word_tensor[0][widx][alphabet.index(letter)] = 1\n",
    "    #print(current_word_tensor)\n",
    "    return current_word_tensor\n",
    "\n",
    "def guess_list_to_tensor(guess_list):\n",
    "    #need to encode the guess list as a 1 x 26 tensor\n",
    "    guess_tensor = torch.zeros(1, 26)\n",
    "    for letter in guess_list:\n",
    "        guess_tensor[0][alphabet.index(letter)] = 1\n",
    "    \n",
    "    return guess_tensor\n",
    "\n",
    "    "
   ]
  },
  {
   "cell_type": "code",
   "execution_count": 13,
   "metadata": {},
   "outputs": [
    {
     "name": "stdout",
     "output_type": "stream",
     "text": [
      "tensor([[[0., 0., 0.,  ..., 0., 0., 0.],\n",
      "         [0., 0., 0.,  ..., 0., 0., 0.],\n",
      "         [0., 0., 0.,  ..., 0., 0., 0.],\n",
      "         ...,\n",
      "         [0., 0., 0.,  ..., 0., 0., 0.],\n",
      "         [0., 0., 0.,  ..., 0., 0., 0.],\n",
      "         [0., 0., 0.,  ..., 0., 0., 0.]]])\n",
      "tensor([[[0., 0., 0., 0., 0., 0., 0., 0., 0., 0., 0., 0., 0., 0., 0., 1., 0.,\n",
      "          0., 0., 0., 0., 0., 0., 0., 0., 0.]]])\n"
     ]
    }
   ],
   "source": [
    "print(word_to_tensor(\"_pp__\"))\n",
    "print(guess_list_to_tensor([\"p\"]))"
   ]
  },
  {
   "cell_type": "code",
   "execution_count": 11,
   "metadata": {},
   "outputs": [
    {
     "name": "stdout",
     "output_type": "stream",
     "text": [
      "torch.Size([1, 27, 45])\n",
      "torch.Size([1, 1, 26])\n"
     ]
    }
   ],
   "source": [
    "print(word_to_tensor(\"_pp__\").shape)\n",
    "print(guess_list_to_tensor([\"p\"]).shape)"
   ]
  },
  {
   "cell_type": "markdown",
   "metadata": {},
   "source": [
    "Ok, so the current word is converted into a tensor and then fed into a LSTM, the guess list is converted to a tensor and then COMBINED with the output from the LSTM and then that combo is fed into a dense layer."
   ]
  },
  {
   "cell_type": "code",
   "execution_count": 216,
   "metadata": {},
   "outputs": [],
   "source": [
    "import torch.nn as nn\n",
    "\n",
    "class Player(nn.Module):\n",
    "    def __init__(self, num_classes, input_size, hidden_size, num_layers, seq_length):\n",
    "        super(Player, self).__init__()\n",
    "        self.num_classes = num_classes #number of outputs\n",
    "        self.num_layers = num_layers #I think this is arbitrary\n",
    "        self.input_size =  input_size #input features\n",
    "        self.hidden_size = hidden_size #to match number of letters in encoded guess\n",
    "        self.seq_length = seq_length #to match number of letters in input\n",
    "        self.lstm = nn.LSTM(input_size=input_size, hidden_size=hidden_size,\n",
    "                          num_layers=num_layers, batch_first=True) #lstm\n",
    "        self.fc_1 =  nn.Linear(hidden_size, 128) #fully connected 1\n",
    "        self.fc = nn.Linear(128, 26) #fully connected last layer\n",
    "        self.softmax = nn.LogSoftmax(dim=1)\n",
    "\n",
    "\n",
    "    \n",
    "    def forward(self, encoded_word, encoded_guess):\n",
    "        h_0 = torch.zeros(self.num_layers, encoded_word.size(0), self.hidden_size) #hidden state\n",
    "        c_0 = torch.zeros(self.num_layers, encoded_word.size(0), self.hidden_size) #internal state\n",
    "        # Propagate input through LSTM\n",
    "        #self.lstm.flatten_parameters()\n",
    "        out, (hn, cn) = self.lstm(encoded_word, (h_0, c_0)) #lstm with input, hidden, and internal state\n",
    "        out = out[:,-1]\n",
    "        #print(out.shape)\n",
    "        #print('The shape of lstm_out is:', out.shape)\n",
    "        hn = hn.view(-1, self.hidden_size) #reshaping the data for Dense layer next\n",
    "        #print(hn.shape)\n",
    "        #print(encoded_guess.shape)\n",
    "        hn = torch.cat((hn,encoded_guess)) #combine data with encoded guess data before passing to dense layer\n",
    "\n",
    "\n",
    "\n",
    "        out = self.fc_1(out) #first Dense\n",
    "        #print(out.shape)\n",
    "\n",
    "        out = self.fc(out) #Final Output\n",
    "        #print(out.shape)\n",
    "        out = self.softmax(out)\n",
    "        return out\n",
    "    \n",
    "\n",
    "\n",
    "\n",
    "    "
   ]
  },
  {
   "cell_type": "code",
   "execution_count": 188,
   "metadata": {},
   "outputs": [
    {
     "name": "stdout",
     "output_type": "stream",
     "text": [
      "torch.Size([1, 26])\n"
     ]
    }
   ],
   "source": [
    "longest_word_length = 45\n",
    "player1 = Player(num_classes = len(alphabet), \n",
    "                 num_layers = 10,\n",
    "                 input_size =  longest_word_length,\n",
    "                 hidden_size = len(alphabet),\n",
    "                 seq_length = 1)\n",
    "#print(player1)\n",
    "current_word = \"_pp__\"\n",
    "guess_list = [\"p\"]\n",
    "word_tensor = word_to_tensor(current_word)\n",
    "guess_tensor = guess_list_to_tensor(guess_list)\n",
    "\n",
    "player_output = player1(word_tensor, guess_tensor)"
   ]
  },
  {
   "cell_type": "code",
   "execution_count": 180,
   "metadata": {},
   "outputs": [],
   "source": [
    "t1 = player_output.detach().numpy()[0]"
   ]
  },
  {
   "cell_type": "code",
   "execution_count": 182,
   "metadata": {},
   "outputs": [
    {
     "data": {
      "text/plain": [
       "array([0.04413354, 0.03679811, 0.0347988 , 0.04169655, 0.03848374,\n",
       "       0.03703758, 0.04089747, 0.03275016, 0.04235902, 0.03814205,\n",
       "       0.03962979, 0.0428115 , 0.03940127, 0.03494367, 0.04051181,\n",
       "       0.04107698, 0.04093184, 0.04125075, 0.03831664, 0.03834148,\n",
       "       0.03236494, 0.03525997, 0.04113822, 0.03843417, 0.03242484,\n",
       "       0.03606509], dtype=float32)"
      ]
     },
     "execution_count": 182,
     "metadata": {},
     "output_type": "execute_result"
    }
   ],
   "source": [
    "t1"
   ]
  },
  {
   "cell_type": "code",
   "execution_count": 199,
   "metadata": {},
   "outputs": [
    {
     "data": {
      "text/plain": [
       "tensor(16)"
      ]
     },
     "execution_count": 199,
     "metadata": {},
     "output_type": "execute_result"
    }
   ],
   "source": [
    "torch.argmax(player_output[0])"
   ]
  },
  {
   "cell_type": "code",
   "execution_count": 200,
   "metadata": {},
   "outputs": [],
   "source": [
    "def guess_from_output(output, guess_list):\n",
    "    #output is the tensor I get from player\n",
    "    output = output.detach().numpy()[0] #this is just easier to deal with\n",
    "\n",
    "    alphabet = list(string.ascii_lowercase)\n",
    "    idx = np.argmax(output)\n",
    "    print(idx)\n",
    "    guess = alphabet[idx]\n",
    "    #I will here force the guess to be a new one...\n",
    "    while guess in guess_list:\n",
    "        output[idx] -= 1 \n",
    "        idx = np.argmax(output)\n",
    "        guess = alphabet[idx]\n",
    "\n",
    "\n",
    "    return guess"
   ]
  },
  {
   "cell_type": "code",
   "execution_count": 236,
   "metadata": {},
   "outputs": [],
   "source": [
    "def error_propagate(output, answer):\n",
    "    #can use the guess_list_to_tensor to convert the answer word into a tensor\n",
    "    answer_tensor = guess_list_to_tensor(list(answer))\n",
    "    answer_tensor = answer_tensor.long()\n",
    "    print(answer_tensor)\n",
    "    loss = nn.NLLLoss()\n",
    "    error = loss(torch.flatten(output), torch.flatten(answer_tensor))\n",
    "    error.backward()    "
   ]
  },
  {
   "cell_type": "code",
   "execution_count": 237,
   "metadata": {},
   "outputs": [
    {
     "name": "stdout",
     "output_type": "stream",
     "text": [
      "tensor([[1, 0, 0, 0, 1, 0, 0, 0, 0, 0, 0, 1, 0, 0, 0, 1, 0, 0, 0, 0, 0, 0, 0, 0,\n",
      "         0, 0]])\n"
     ]
    }
   ],
   "source": [
    "error_propagate(player_output, \"apple\")"
   ]
  },
  {
   "cell_type": "code",
   "execution_count": 202,
   "metadata": {},
   "outputs": [
    {
     "data": {
      "text/plain": [
       "tensor([[1., 0., 0., 0., 1., 0., 0., 0., 0., 0., 0., 1., 0., 0., 0., 1., 0., 0.,\n",
       "         0., 0., 0., 0., 0., 0., 0., 0.]])"
      ]
     },
     "execution_count": 202,
     "metadata": {},
     "output_type": "execute_result"
    }
   ],
   "source": [
    "guess_list_to_tensor(list(\"apple\"))"
   ]
  },
  {
   "cell_type": "code",
   "execution_count": 198,
   "metadata": {},
   "outputs": [
    {
     "name": "stdout",
     "output_type": "stream",
     "text": [
      "16\n",
      "q\n"
     ]
    }
   ],
   "source": [
    "print(guess_from_output(player_output, guess_list))"
   ]
  },
  {
   "cell_type": "markdown",
   "metadata": {},
   "source": [
    "Can almost start learning...\n",
    "\n",
    "\n",
    "before start,\n",
    "Initialize player object\n",
    "Initialize hangman object\n",
    "\n",
    "Each loop of training will:\n",
    "\n",
    "generate correct word and set up game\n",
    "zero out initial state of player\n",
    "\n"
   ]
  },
  {
   "cell_type": "code",
   "execution_count": null,
   "metadata": {},
   "outputs": [],
   "source": []
  },
  {
   "cell_type": "code",
   "execution_count": null,
   "metadata": {},
   "outputs": [],
   "source": []
  },
  {
   "cell_type": "code",
   "execution_count": null,
   "metadata": {},
   "outputs": [],
   "source": []
  },
  {
   "cell_type": "code",
   "execution_count": null,
   "metadata": {},
   "outputs": [],
   "source": []
  },
  {
   "cell_type": "code",
   "execution_count": null,
   "metadata": {},
   "outputs": [],
   "source": []
  },
  {
   "cell_type": "code",
   "execution_count": 256,
   "metadata": {},
   "outputs": [],
   "source": [
    "class MyHangman4(object):\n",
    "    def __init__(self, player, dictionary):\n",
    "        self.guessed_letters = []\n",
    "        #should include a self word and self correct word\n",
    "        self.word = \"\"\n",
    "        self.correct_word = \"\"\n",
    "        #full_dictionary_location = \"words_250000_train.txt\"\n",
    "        self.full_dictionary = dictionary #going to use a subset of the training data obviously\n",
    "        #self.full_dictionary = self.build_dictionary(full_dictionary_location)        \n",
    "        self.full_dictionary_common_letter_sorted = collections.Counter(\"\".join(self.full_dictionary)).most_common()\n",
    "        \n",
    "        self.current_dictionary = []\n",
    "        self.has_won = False\n",
    "        self.player = player\n",
    "        self.learning_rate = 0.005 #should have this as an input?\n",
    "        self.current_loss = 0\n",
    "        \n",
    "    #def generate_correct_word(self):\n",
    "    #    self.correct_word = random.choice(self.full_dictionary)\n",
    "\n",
    "    def get_winstate(self):\n",
    "        return self.has_won\n",
    "    \n",
    "    #def add_player(self,player):\n",
    "    #    self.player = player\n",
    "\n",
    "    def word_to_tensor(current_word):\n",
    "        longest_word_length = 45 #this is the longest word in the english language\n",
    "        #first, encode word: ex \"apple\"\n",
    "        #assume word is something like \"_pp__\"\n",
    "        alphabet = list(string.ascii_lowercase) \n",
    "        alphabet.append(\"_\")#this is for blanks\n",
    "        #alphabet.append(\"=\") # using this for generic padding\n",
    "        #input_length = longest_word_length + n_letters+1\n",
    "        num_letters = len(alphabet)\n",
    "\n",
    "        # the current word tensor needs to be encoded as a 1 x 27 x N length tensor\n",
    "        # 1 because we are using batches of 1, 27 because 26 letters + \"_\" and N is the max word length\n",
    "        current_word_tensor = torch.zeros(1,num_letters,longest_word_length)\n",
    "        for widx, letter in enumerate(current_word):\n",
    "            #print(widx)\n",
    "            #print(letter)\n",
    "            current_word_tensor[0][widx][alphabet.index(letter)] = 1\n",
    "        #print(current_word_tensor)\n",
    "        return current_word_tensor\n",
    "\n",
    "    def guess_list_to_tensor(guess_list):\n",
    "        #need to encode the guess list as a 1 x 26 tensor\n",
    "        guess_tensor = torch.zeros(1, 26)\n",
    "        for letter in guess_list:\n",
    "            guess_tensor[0][alphabet.index(letter)] = 1\n",
    "        \n",
    "        return guess_tensor\n",
    "\n",
    "\n",
    "    def guess_from_output(self,output, guess_list):\n",
    "        #output is the tensor I get from player\n",
    "        output = output.detach().numpy()[0] #this is just easier to deal with\n",
    "\n",
    "        alphabet = list(string.ascii_lowercase)\n",
    "        idx = np.argmax(output)\n",
    "        #print(idx)\n",
    "        guess = alphabet[idx]\n",
    "        #I will here force the guess to be a new one...\n",
    "        while guess in guess_list:\n",
    "            output[idx] -= 1 \n",
    "            idx = np.argmax(output)\n",
    "            guess = alphabet[idx]\n",
    "        return guess\n",
    "    \n",
    "    def error_propagate(self, output, answer):\n",
    "        #can use the guess_list_to_tensor to convert the answer word into a tensor\n",
    "        answer_tensor = self.guess_list_to_tensor(list(answer))\n",
    "        answer_tensor = answer_tensor.long()\n",
    "        loss = nn.NLLLoss()\n",
    "        #print(output.shape)\n",
    "        #print(answer_tensor.shape)\n",
    "        error = loss(torch.flatten(output), torch.flatten(answer_tensor))\n",
    "        error.backward()    \n",
    "        #record stuff so we can plot later\n",
    "        for p in self.player.parameters():\n",
    "            p.data.add(p.grad.data, alpha=-self.learning_rate)\n",
    "\n",
    "        self.current_loss = error\n",
    "        \n",
    "\n",
    "    #everything gets put together in the guess function\n",
    "    def guess(self, player, word, guess_list):\n",
    "        word_tensor = word_to_tensor(word)\n",
    "        guess_list_tensor = guess_list_to_tensor(guess_list)\n",
    "        output = player(word_tensor, guess_list_tensor)\n",
    "        self.error_propagate(output, self.correct_word)\n",
    "        guess_letter = self.guess_from_output(output, guess_list)\n",
    "\n",
    "        return guess_letter\n",
    "    \n",
    "    def generate_correct_word(self):\n",
    "        self.correct_word = random.choice(self.full_dictionary)\n",
    "\n",
    "    def get_loss(self):\n",
    "        return self.current_loss\n",
    "\n",
    "    \n",
    "\n",
    "    ##########################################################\n",
    "    # You'll likely not need to modify any of the code below #\n",
    "    ##########################################################\n",
    "    \n",
    "    def build_dictionary(self, dictionary_file_location):\n",
    "        text_file = open(dictionary_file_location,\"r\")\n",
    "        full_dictionary = text_file.read().splitlines()\n",
    "        text_file.close()\n",
    "        return full_dictionary\n",
    "\n",
    "    #what do I need to replace the responses?\n",
    "    #get a word\n",
    "    #get remaining tries\n",
    "    #print number of tries remaining\n",
    "    #go through the process of resolving a guess\n",
    "    #\n",
    "\n",
    "    def handle_guess(self, guessLetter, currentWord, ans):\n",
    "        #I have to convert the strings to lists, find indices of the letter (if present) and then smush the lists back into strings and spit it out\n",
    "        indices = [i for i, x in enumerate(list(ans)) if x == guessLetter]\n",
    "        wordList = list(currentWord)\n",
    "        for i in indices:\n",
    "            wordList[i] = guessLetter #now I replace the occurrences of the letter\n",
    "        word = \"\".join(wordList)\n",
    "        return word\n",
    "        \n",
    "                \n",
    "    def start_game(self, practice=True, verbose=True):\n",
    "        self.has_won = False\n",
    "        # reset guessed letters to empty set and current plausible dictionary to the full dictionary\n",
    "        self.guessed_letters = []\n",
    "        self.current_dictionary = self.full_dictionary\n",
    "\n",
    "        #pick a word from the dictionary at random.\n",
    "        #correctWord = random.choice(self.full_dictionary) #this is the initial word, but need to update it based on guesses\n",
    "        self.generate_correct_word()\n",
    "        word = \"_\" * len(self.correct_word) #I should make this a member of self right?\n",
    "\n",
    "        tries_remains = 6 #I think this needs to just be a magic number?\n",
    "\n",
    "        if verbose:\n",
    "            print(\"Successfully start a new game! # of tries remaining: {0}. Word: {1}.\".format(tries_remains, word))\n",
    "        while tries_remains >0:\n",
    "            #tries_remains -=1 tries remains decreases after WRONG answer\n",
    "            self.player.zero_grad()\n",
    "\n",
    "            #get guessed letter\n",
    "            guess_letter = self.guess(self.player, word, self.guessed_letters)\n",
    "\n",
    "            #append guessed letter to guessed letters field in hangman object\n",
    "            self.guessed_letters.append(guess_letter)\n",
    "            if verbose:\n",
    "                print(\"Guessing letter: {0}\".format(guess_letter))\n",
    "\n",
    "            #apply guessed letter to the word\n",
    "            new_word = self.handle_guess(guess_letter, word, self.correct_word) \n",
    "\n",
    "            #check if we have the word\n",
    "            if new_word == self.correct_word:\n",
    "                word = new_word\n",
    "                if verbose:\n",
    "                    print(\"Success! the word was: %s\" % word)\n",
    "                self.has_won = True\n",
    "                break\n",
    "            \n",
    "            if new_word == word:\n",
    "                #this means that we did not get a correct guess\n",
    "                #decrease number of tries\n",
    "                if verbose:\n",
    "                    print(\"Incorrect guess {0}, # of tries remaining: {1}. Word: {2}.\".format(guess_letter,tries_remains, word))\n",
    "                tries_remains -=1\n",
    "            else:\n",
    "                #We have a correct letter guessed, but not the complete word\n",
    "                #don't decrement tries_remains\n",
    "                word = new_word\n",
    "                if verbose:\n",
    "                    print(\"Got a Letter, {0}, # of tries remaining: {1}. Word: {2}.\".format(guess_letter,tries_remains, word))\n",
    "        if tries_remains == 0:\n",
    "            if verbose:\n",
    "                print(\"You Lose, the answer was: %s\" % self.correct_word)\n",
    "                "
   ]
  },
  {
   "cell_type": "code",
   "execution_count": 257,
   "metadata": {},
   "outputs": [
    {
     "name": "stdout",
     "output_type": "stream",
     "text": [
      "Successfully start a new game! # of tries remaining: 6. Word: _____________.\n",
      "Guessing letter: h\n",
      "Got a Letter, h, # of tries remaining: 6. Word: ____________h.\n",
      "Guessing letter: b\n",
      "Incorrect guess b, # of tries remaining: 6. Word: ____________h.\n",
      "Guessing letter: k\n",
      "Incorrect guess k, # of tries remaining: 5. Word: ____________h.\n",
      "Guessing letter: s\n",
      "Got a Letter, s, # of tries remaining: 4. Word: _______s___sh.\n",
      "Guessing letter: t\n",
      "Got a Letter, t, # of tries remaining: 4. Word: ___t___s___sh.\n",
      "Guessing letter: m\n",
      "Incorrect guess m, # of tries remaining: 4. Word: ___t___s___sh.\n",
      "Guessing letter: z\n",
      "Incorrect guess z, # of tries remaining: 3. Word: ___t___s___sh.\n",
      "Guessing letter: x\n",
      "Incorrect guess x, # of tries remaining: 2. Word: ___t___s___sh.\n",
      "Guessing letter: v\n",
      "Incorrect guess v, # of tries remaining: 1. Word: ___t___s___sh.\n",
      "You Lose, the answer was: picturesquish\n"
     ]
    }
   ],
   "source": [
    "\n",
    "learning_rate = 0.005\n",
    "player1 = Player(num_classes = len(alphabet), \n",
    "                 num_layers = 10,\n",
    "                 input_size =  longest_word_length,\n",
    "                 hidden_size = len(alphabet),\n",
    "                 seq_length = 1)\n",
    "game = MyHangman4(player1, dict_train)\n",
    "game.start_game()"
   ]
  },
  {
   "cell_type": "code",
   "execution_count": 260,
   "metadata": {},
   "outputs": [
    {
     "name": "stdout",
     "output_type": "stream",
     "text": [
      "On Iteration 50 of 1000\n",
      "Current loss is: 3.333233\n",
      "Has been running for: 2.858845 seconds\n",
      "On Iteration 100 of 1000\n",
      "Current loss is: 3.388960\n",
      "Has been running for: 5.554532 seconds\n",
      "On Iteration 150 of 1000\n",
      "Current loss is: 3.333233\n",
      "Has been running for: 8.296739 seconds\n",
      "On Iteration 200 of 1000\n",
      "Current loss is: 3.333233\n",
      "Has been running for: 11.049318 seconds\n",
      "On Iteration 250 of 1000\n",
      "Current loss is: 3.388960\n",
      "Has been running for: 13.725932 seconds\n",
      "On Iteration 300 of 1000\n",
      "Current loss is: 3.388960\n",
      "Has been running for: 16.406049 seconds\n",
      "On Iteration 350 of 1000\n",
      "Current loss is: 3.333233\n",
      "Has been running for: 19.083381 seconds\n",
      "On Iteration 400 of 1000\n",
      "Current loss is: 3.388960\n",
      "Has been running for: 21.747349 seconds\n",
      "On Iteration 450 of 1000\n",
      "Current loss is: 3.333233\n",
      "Has been running for: 24.600852 seconds\n",
      "On Iteration 500 of 1000\n",
      "Current loss is: 3.333233\n",
      "Has been running for: 27.320525 seconds\n",
      "On Iteration 550 of 1000\n",
      "Current loss is: 3.388960\n",
      "Has been running for: 29.880100 seconds\n",
      "On Iteration 600 of 1000\n",
      "Current loss is: 3.333233\n",
      "Has been running for: 32.576873 seconds\n",
      "On Iteration 650 of 1000\n",
      "Current loss is: 3.388960\n",
      "Has been running for: 35.395864 seconds\n",
      "On Iteration 700 of 1000\n",
      "Current loss is: 3.388960\n",
      "Has been running for: 38.107560 seconds\n",
      "On Iteration 750 of 1000\n",
      "Current loss is: 3.388960\n",
      "Has been running for: 40.969854 seconds\n",
      "On Iteration 800 of 1000\n",
      "Current loss is: 3.388960\n",
      "Has been running for: 43.732508 seconds\n",
      "On Iteration 850 of 1000\n",
      "Current loss is: 3.388960\n",
      "Has been running for: 46.462166 seconds\n",
      "On Iteration 900 of 1000\n",
      "Current loss is: 3.333233\n",
      "Has been running for: 49.295539 seconds\n",
      "On Iteration 950 of 1000\n",
      "Current loss is: 3.333233\n",
      "Has been running for: 52.005216 seconds\n",
      "On Iteration 1000 of 1000\n",
      "Current loss is: 3.388960\n",
      "Has been running for: 54.919383 seconds\n"
     ]
    }
   ],
   "source": [
    "n_iters = 1000\n",
    "print_every = 50\n",
    "\n",
    "player1 = Player(num_classes = len(alphabet), \n",
    "                 num_layers = 10,\n",
    "                 input_size =  longest_word_length,\n",
    "                 hidden_size = len(alphabet),\n",
    "                 seq_length = 1)\n",
    "game = MyHangman4(player1, dict_train)\n",
    "\n",
    "error_list = []\n",
    "t = time.time()\n",
    "elapsed = time.time() - t\n",
    "wincount = 0\n",
    "\n",
    "for i in range(1, n_iters+1):\n",
    "    game.start_game(verbose = False)\n",
    "    error_list.append(game.get_loss())\n",
    "    wincount += game.get_winstate()\n",
    "\n",
    "    if(i % print_every == 0):\n",
    "        elapsed = time.time() - t\n",
    "        print(\"On Iteration %i of %i\" % (i, n_iters))\n",
    "        print(\"Current loss is: %f\" % game.get_loss())\n",
    "        print(\"Has been running for: %f seconds\" % elapsed)\n",
    "    "
   ]
  },
  {
   "cell_type": "code",
   "execution_count": 263,
   "metadata": {},
   "outputs": [
    {
     "data": {
      "text/plain": [
       "<bound method Module.parameters of Player(\n",
       "  (lstm): LSTM(45, 26, num_layers=10, batch_first=True)\n",
       "  (fc_1): Linear(in_features=26, out_features=128, bias=True)\n",
       "  (fc): Linear(in_features=128, out_features=26, bias=True)\n",
       "  (softmax): LogSoftmax(dim=1)\n",
       ")>"
      ]
     },
     "execution_count": 263,
     "metadata": {},
     "output_type": "execute_result"
    }
   ],
   "source": [
    "game.player.parameters"
   ]
  },
  {
   "cell_type": "code",
   "execution_count": 261,
   "metadata": {},
   "outputs": [
    {
     "data": {
      "text/plain": [
       "0"
      ]
     },
     "execution_count": 261,
     "metadata": {},
     "output_type": "execute_result"
    }
   ],
   "source": [
    "wincount"
   ]
  },
  {
   "cell_type": "code",
   "execution_count": null,
   "metadata": {},
   "outputs": [],
   "source": [
    "n_iters = 100000\n",
    "print_every = 5000\n",
    "plot_every = 1000\n",
    "\n",
    "# Keep track of losses for plotting\n",
    "current_loss = 0\n",
    "all_losses = []\n",
    "\n",
    "player1 = Player(num_classes = len(alphabet), \n",
    "                 num_layers = 10,\n",
    "                 input_size =  longest_word_length,\n",
    "                 hidden_size = len(alphabet),\n",
    "                 seq_length = 1)\n",
    "game = MyHangman4(player1, dict_train)\n",
    "\n",
    "def timeSince(since):\n",
    "    now = time.time()\n",
    "    s = now - since\n",
    "    m = math.floor(s / 60)\n",
    "    s -= m * 60\n",
    "    return '%dm %ds' % (m, s)\n",
    "\n",
    "start = time.time()\n",
    "\n",
    "for iter in range(1, n_iters + 1):\n",
    "    category, line, category_tensor, line_tensor = randomTrainingExample()\n",
    "    output, loss = train(category_tensor, line_tensor)\n",
    "    current_loss += loss\n",
    "\n",
    "    # Print ``iter`` number, loss, name and guess\n",
    "    if iter % print_every == 0:\n",
    "        guess, guess_i = categoryFromOutput(output)\n",
    "        correct = '✓' if guess == category else '✗ (%s)' % category\n",
    "        print('%d %d%% (%s) %.4f %s / %s %s' % (iter, iter / n_iters * 100, timeSince(start), loss, line, guess, correct))\n",
    "\n",
    "    # Add current loss avg to list of losses\n",
    "    if iter % plot_every == 0:\n",
    "        all_losses.append(current_loss / plot_every)\n",
    "        current_loss = 0\n",
    "\n",
    "\n",
    "\n"
   ]
  },
  {
   "cell_type": "code",
   "execution_count": 47,
   "metadata": {},
   "outputs": [
    {
     "data": {
      "text/plain": [
       "True"
      ]
     },
     "execution_count": 47,
     "metadata": {},
     "output_type": "execute_result"
    }
   ],
   "source": [
    "game.get_winstate()"
   ]
  },
  {
   "cell_type": "code",
   "execution_count": 10,
   "metadata": {},
   "outputs": [
    {
     "name": "stdout",
     "output_type": "stream",
     "text": [
      "Successfully start a new game! # of tries remaining: 6. Word: _________.\n",
      "Guessing letter: n\n",
      "Incorrect guess n, # of tries remaining: 6. Word: _________.\n",
      "Guessing letter: s\n",
      "Incorrect guess s, # of tries remaining: 5. Word: _________.\n",
      "Guessing letter: o\n",
      "Got a Letter, o, # of tries remaining: 4. Word: _o_______.\n",
      "Guessing letter: t\n",
      "Got a Letter, t, # of tries remaining: 4. Word: to_______.\n",
      "Guessing letter: r\n",
      "Got a Letter, r, # of tries remaining: 4. Word: torr_____.\n",
      "Guessing letter: i\n",
      "Got a Letter, i, # of tries remaining: 4. Word: torr__i__.\n",
      "Guessing letter: e\n",
      "Got a Letter, e, # of tries remaining: 4. Word: torre_ie_.\n",
      "Guessing letter: d\n",
      "Got a Letter, d, # of tries remaining: 4. Word: torre_ied.\n",
      "Guessing letter: f\n",
      "Success! the word was: torrefied\n",
      "Successfully start a new game! # of tries remaining: 6. Word: _________.\n",
      "Guessing letter: n\n",
      "Incorrect guess n, # of tries remaining: 6. Word: _________.\n",
      "Guessing letter: s\n",
      "Got a Letter, s, # of tries remaining: 5. Word: ______s_s.\n",
      "Guessing letter: o\n",
      "Incorrect guess o, # of tries remaining: 5. Word: ______s_s.\n",
      "Guessing letter: a\n",
      "Got a Letter, a, # of tries remaining: 4. Word: __a_a_s_s.\n",
      "Guessing letter: t\n",
      "Incorrect guess t, # of tries remaining: 4. Word: __a_a_s_s.\n",
      "Guessing letter: i\n",
      "Got a Letter, i, # of tries remaining: 3. Word: _ia_a_s_s.\n",
      "Guessing letter: p\n",
      "Got a Letter, p, # of tries remaining: 3. Word: _iapa_s_s.\n",
      "Guessing letter: e\n",
      "Got a Letter, e, # of tries remaining: 3. Word: _iapa_ses.\n",
      "Guessing letter: u\n",
      "Got a Letter, u, # of tries remaining: 3. Word: _iapauses.\n",
      "Guessing letter: d\n",
      "Success! the word was: diapauses\n",
      "Successfully start a new game! # of tries remaining: 6. Word: ___________.\n",
      "Guessing letter: n\n",
      "Got a Letter, n, # of tries remaining: 6. Word: ______n____.\n",
      "Guessing letter: l\n",
      "Incorrect guess l, # of tries remaining: 6. Word: ______n____.\n",
      "Guessing letter: r\n",
      "Incorrect guess r, # of tries remaining: 5. Word: ______n____.\n",
      "Guessing letter: s\n",
      "Got a Letter, s, # of tries remaining: 4. Word: ______ns___.\n",
      "Guessing letter: o\n",
      "Incorrect guess o, # of tries remaining: 4. Word: ______ns___.\n",
      "Guessing letter: m\n",
      "Incorrect guess m, # of tries remaining: 3. Word: ______ns___.\n",
      "Guessing letter: h\n",
      "Got a Letter, h, # of tries remaining: 2. Word: ______nsh__.\n",
      "Guessing letter: p\n",
      "Got a Letter, p, # of tries remaining: 2. Word: ______nsh_p.\n",
      "Guessing letter: i\n",
      "Got a Letter, i, # of tries remaining: 2. Word: _i_i__nship.\n",
      "Guessing letter: e\n",
      "Got a Letter, e, # of tries remaining: 2. Word: _i_i_enship.\n",
      "Guessing letter: t\n",
      "Got a Letter, t, # of tries remaining: 2. Word: _iti_enship.\n",
      "Guessing letter: c\n",
      "Got a Letter, c, # of tries remaining: 2. Word: citi_enship.\n",
      "Guessing letter: z\n",
      "Success! the word was: citizenship\n",
      "Successfully start a new game! # of tries remaining: 6. Word: _______.\n",
      "Guessing letter: n\n",
      "Incorrect guess n, # of tries remaining: 6. Word: _______.\n",
      "Guessing letter: a\n",
      "Got a Letter, a, # of tries remaining: 5. Word: _a_____.\n",
      "Guessing letter: i\n",
      "Got a Letter, i, # of tries remaining: 5. Word: _a__i__.\n",
      "Guessing letter: e\n",
      "Incorrect guess e, # of tries remaining: 5. Word: _a__i__.\n",
      "Guessing letter: s\n",
      "Got a Letter, s, # of tries remaining: 4. Word: _a__is_.\n",
      "Guessing letter: r\n",
      "Incorrect guess r, # of tries remaining: 4. Word: _a__is_.\n",
      "Guessing letter: h\n",
      "Got a Letter, h, # of tries remaining: 3. Word: _a__ish.\n",
      "Guessing letter: m\n",
      "Incorrect guess m, # of tries remaining: 3. Word: _a__ish.\n",
      "Guessing letter: t\n",
      "Got a Letter, t, # of tries remaining: 2. Word: _at_ish.\n",
      "Guessing letter: f\n",
      "Got a Letter, f, # of tries remaining: 2. Word: _atfish.\n",
      "Guessing letter: b\n",
      "Incorrect guess b, # of tries remaining: 2. Word: _atfish.\n",
      "Guessing letter: c\n",
      "Success! the word was: catfish\n",
      "Successfully start a new game! # of tries remaining: 6. Word: ____________.\n",
      "Guessing letter: n\n",
      "Incorrect guess n, # of tries remaining: 6. Word: ____________.\n",
      "Guessing letter: l\n",
      "Incorrect guess l, # of tries remaining: 5. Word: ____________.\n",
      "Guessing letter: c\n",
      "Got a Letter, c, # of tries remaining: 4. Word: _____c______.\n",
      "Guessing letter: s\n",
      "Got a Letter, s, # of tries remaining: 4. Word: ___ssc______.\n",
      "Guessing letter: u\n",
      "Incorrect guess u, # of tries remaining: 4. Word: ___ssc______.\n",
      "Guessing letter: r\n",
      "Got a Letter, r, # of tries remaining: 3. Word: _r_ssc___r__.\n",
      "Guessing letter: d\n",
      "Got a Letter, d, # of tries remaining: 3. Word: _r_ssc___r_d.\n",
      "Guessing letter: e\n",
      "Got a Letter, e, # of tries remaining: 3. Word: _r_ssc__ered.\n",
      "Guessing letter: a\n",
      "Got a Letter, a, # of tries remaining: 3. Word: _rassc__ered.\n",
      "Guessing letter: o\n",
      "Got a Letter, o, # of tries remaining: 3. Word: _rassco_ered.\n",
      "Guessing letter: g\n",
      "Got a Letter, g, # of tries remaining: 3. Word: grassco_ered.\n",
      "Guessing letter: v\n",
      "Success! the word was: grasscovered\n",
      "Successfully start a new game! # of tries remaining: 6. Word: __________.\n",
      "Guessing letter: n\n",
      "Got a Letter, n, # of tries remaining: 6. Word: ______n___.\n",
      "Guessing letter: s\n",
      "Got a Letter, s, # of tries remaining: 6. Word: ___s__n_s_.\n",
      "Guessing letter: a\n",
      "Got a Letter, a, # of tries remaining: 6. Word: ___s_an_s_.\n",
      "Guessing letter: r\n",
      "Got a Letter, r, # of tries remaining: 6. Word: _r_s_an_s_.\n",
      "Guessing letter: i\n",
      "Got a Letter, i, # of tries remaining: 6. Word: _r_s_anis_.\n",
      "Guessing letter: p\n",
      "Got a Letter, p, # of tries remaining: 6. Word: pr_spanis_.\n",
      "Guessing letter: h\n",
      "Got a Letter, h, # of tries remaining: 6. Word: pr_spanish.\n",
      "Guessing letter: e\n",
      "Success! the word was: prespanish\n",
      "Successfully start a new game! # of tries remaining: 6. Word: ___________.\n",
      "Guessing letter: n\n",
      "Incorrect guess n, # of tries remaining: 6. Word: ___________.\n",
      "Guessing letter: l\n",
      "Got a Letter, l, # of tries remaining: 5. Word: ______l____.\n",
      "Guessing letter: s\n",
      "Got a Letter, s, # of tries remaining: 5. Word: s_____l_s__.\n",
      "Guessing letter: r\n",
      "Incorrect guess r, # of tries remaining: 5. Word: s_____l_s__.\n",
      "Guessing letter: i\n",
      "Got a Letter, i, # of tries remaining: 4. Word: s___i_lis__.\n",
      "Guessing letter: e\n",
      "Got a Letter, e, # of tries remaining: 4. Word: s_e_i_lise_.\n",
      "Guessing letter: a\n",
      "Got a Letter, a, # of tries remaining: 4. Word: s_e_ialise_.\n",
      "Guessing letter: c\n",
      "Got a Letter, c, # of tries remaining: 4. Word: s_ecialise_.\n",
      "Guessing letter: d\n",
      "Got a Letter, d, # of tries remaining: 4. Word: s_ecialised.\n",
      "Guessing letter: p\n",
      "Success! the word was: specialised\n",
      "Successfully start a new game! # of tries remaining: 6. Word: ____________.\n",
      "Guessing letter: n\n",
      "Got a Letter, n, # of tries remaining: 6. Word: ___________n.\n",
      "Guessing letter: l\n",
      "Incorrect guess l, # of tries remaining: 6. Word: ___________n.\n",
      "Guessing letter: s\n",
      "Got a Letter, s, # of tries remaining: 5. Word: s__s_______n.\n",
      "Guessing letter: c\n",
      "Got a Letter, c, # of tries remaining: 5. Word: s__s_c_____n.\n",
      "Guessing letter: i\n",
      "Got a Letter, i, # of tries remaining: 5. Word: s__sic_____n.\n",
      "Guessing letter: e\n",
      "Got a Letter, e, # of tries remaining: 5. Word: s_esic___e_n.\n",
      "Guessing letter: a\n",
      "Got a Letter, a, # of tries remaining: 5. Word: s_esic___ean.\n",
      "Guessing letter: o\n",
      "Got a Letter, o, # of tries remaining: 5. Word: s_esic_o_ean.\n",
      "Guessing letter: r\n",
      "Got a Letter, r, # of tries remaining: 5. Word: s_esic_orean.\n",
      "Guessing letter: t\n",
      "Got a Letter, t, # of tries remaining: 5. Word: stesic_orean.\n",
      "Guessing letter: h\n",
      "Success! the word was: stesichorean\n",
      "Successfully start a new game! # of tries remaining: 6. Word: __________.\n",
      "Guessing letter: n\n",
      "Got a Letter, n, # of tries remaining: 6. Word: _________n.\n",
      "Guessing letter: s\n",
      "Got a Letter, s, # of tries remaining: 6. Word: _______s_n.\n",
      "Guessing letter: r\n",
      "Incorrect guess r, # of tries remaining: 6. Word: _______s_n.\n",
      "Guessing letter: i\n",
      "Incorrect guess i, # of tries remaining: 5. Word: _______s_n.\n",
      "Guessing letter: a\n",
      "Incorrect guess a, # of tries remaining: 4. Word: _______s_n.\n",
      "Guessing letter: e\n",
      "Got a Letter, e, # of tries remaining: 3. Word: _e_____sen.\n",
      "Guessing letter: m\n",
      "Incorrect guess m, # of tries remaining: 3. Word: _e_____sen.\n",
      "Guessing letter: h\n",
      "Got a Letter, h, # of tries remaining: 2. Word: _e___h_sen.\n",
      "Guessing letter: c\n",
      "Got a Letter, c, # of tries remaining: 2. Word: _e__ch_sen.\n",
      "Guessing letter: o\n",
      "Got a Letter, o, # of tries remaining: 2. Word: _e__chosen.\n",
      "Guessing letter: l\n",
      "Got a Letter, l, # of tries remaining: 2. Word: _ellchosen.\n",
      "Guessing letter: f\n",
      "Incorrect guess f, # of tries remaining: 2. Word: _ellchosen.\n",
      "Guessing letter: w\n",
      "Success! the word was: wellchosen\n",
      "Successfully start a new game! # of tries remaining: 6. Word: ________.\n",
      "Guessing letter: n\n",
      "Incorrect guess n, # of tries remaining: 6. Word: ________.\n",
      "Guessing letter: r\n",
      "Got a Letter, r, # of tries remaining: 5. Word: __r_____.\n",
      "Guessing letter: s\n",
      "Got a Letter, s, # of tries remaining: 5. Word: __r_s___.\n",
      "Guessing letter: i\n",
      "Got a Letter, i, # of tries remaining: 5. Word: __r_s_i_.\n",
      "Guessing letter: a\n",
      "Got a Letter, a, # of tries remaining: 5. Word: _ar_s_i_.\n",
      "Guessing letter: p\n",
      "Got a Letter, p, # of tries remaining: 5. Word: _ar_s_ip.\n",
      "Guessing letter: d\n",
      "Got a Letter, d, # of tries remaining: 5. Word: _ards_ip.\n",
      "Guessing letter: h\n",
      "Got a Letter, h, # of tries remaining: 5. Word: _ardship.\n",
      "Guessing letter: b\n",
      "Incorrect guess b, # of tries remaining: 5. Word: _ardship.\n",
      "Guessing letter: w\n",
      "Success! the word was: wardship\n"
     ]
    }
   ],
   "source": [
    "for i in range(10):\n",
    "    game.start_game()"
   ]
  },
  {
   "cell_type": "code",
   "execution_count": 2,
   "metadata": {},
   "outputs": [
    {
     "ename": "NameError",
     "evalue": "name 'full_dict' is not defined",
     "output_type": "error",
     "traceback": [
      "\u001b[1;31m---------------------------------------------------------------------------\u001b[0m",
      "\u001b[1;31mNameError\u001b[0m                                 Traceback (most recent call last)",
      "Input \u001b[1;32mIn [2]\u001b[0m, in \u001b[0;36m<cell line: 1>\u001b[1;34m()\u001b[0m\n\u001b[1;32m----> 1\u001b[0m \u001b[43mfull_dict\u001b[49m\n",
      "\u001b[1;31mNameError\u001b[0m: name 'full_dict' is not defined"
     ]
    }
   ],
   "source": [
    "full_dict"
   ]
  },
  {
   "cell_type": "code",
   "execution_count": null,
   "metadata": {},
   "outputs": [],
   "source": []
  }
 ],
 "metadata": {
  "kernelspec": {
   "display_name": "Python 3",
   "language": "python",
   "name": "python3"
  },
  "language_info": {
   "codemirror_mode": {
    "name": "ipython",
    "version": 3
   },
   "file_extension": ".py",
   "mimetype": "text/x-python",
   "name": "python",
   "nbconvert_exporter": "python",
   "pygments_lexer": "ipython3",
   "version": "3.10.11"
  }
 },
 "nbformat": 4,
 "nbformat_minor": 2
}
